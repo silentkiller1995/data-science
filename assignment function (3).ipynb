{
 "cells": [
  {
   "cell_type": "code",
   "execution_count": null,
   "id": "093cef09-0ac6-43a7-a8e0-b3576ab56c4b",
   "metadata": {},
   "outputs": [],
   "source": [
    "#Q1. Which keyword is used to create a function? Create a function to return a list of odd numbers in the  range of 1 to 25. \n",
    "def keyword is used to create a function"
   ]
  },
  {
   "cell_type": "code",
   "execution_count": 2,
   "id": "28c81931-166c-4ff9-8f00-57cba4cdb8ee",
   "metadata": {},
   "outputs": [],
   "source": [
    "def odd_numbers():\n",
    "    odd_list = []\n",
    "    for i in range(1, 26):\n",
    "        if i % 2 != 0:\n",
    "            odd_list.append(i)\n",
    "    return odd_list"
   ]
  },
  {
   "cell_type": "code",
   "execution_count": 4,
   "id": "1fcd5eed-d01c-4478-8bcb-599c99a31fa0",
   "metadata": {},
   "outputs": [
    {
     "data": {
      "text/plain": [
       "[1, 3, 5, 7, 9, 11, 13, 15, 17, 19, 21, 23, 25]"
      ]
     },
     "execution_count": 4,
     "metadata": {},
     "output_type": "execute_result"
    }
   ],
   "source": [
    "odd_numbers()"
   ]
  },
  {
   "cell_type": "code",
   "execution_count": null,
   "id": "c05ac2c1-69fc-4470-9601-e22e31de8acd",
   "metadata": {},
   "outputs": [],
   "source": [
    "# 2  Why *args and **kwargs is used in some functions? Create a function each for *args and **kwargs to  demonstrate their use. \n"
   ]
  },
  {
   "cell_type": "code",
   "execution_count": null,
   "id": "0c4562f0-a78c-438c-98bd-1b49c831ed2e",
   "metadata": {},
   "outputs": [],
   "source": [
    "args- used for non keyworded argument\n",
    "kwarges- used for keyworded arguments"
   ]
  },
  {
   "cell_type": "code",
   "execution_count": null,
   "id": "f68e2dc4-ad5f-4764-802d-6b8bf7c292f7",
   "metadata": {},
   "outputs": [],
   "source": [
    "#eg-args"
   ]
  },
  {
   "cell_type": "code",
   "execution_count": 5,
   "id": "520f9f6b-6f68-4d78-868d-3c03d4c89976",
   "metadata": {},
   "outputs": [],
   "source": [
    "def sum_numbers(*args):\n",
    "    total = 0\n",
    "    for num in args:\n",
    "        total += num\n",
    "    return total"
   ]
  },
  {
   "cell_type": "code",
   "execution_count": 7,
   "id": "03a454f2-46c5-4bae-ba57-96638238a95d",
   "metadata": {},
   "outputs": [
    {
     "data": {
      "text/plain": [
       "10"
      ]
     },
     "execution_count": 7,
     "metadata": {},
     "output_type": "execute_result"
    }
   ],
   "source": [
    "sum_numbers(1,2,3,4)"
   ]
  },
  {
   "cell_type": "code",
   "execution_count": null,
   "id": "44980884-19b5-4e06-b54e-c606f31cb4ef",
   "metadata": {},
   "outputs": [],
   "source": [
    "#eg-kwargs"
   ]
  },
  {
   "cell_type": "code",
   "execution_count": 9,
   "id": "a657d9d7-5b7c-4cf8-babc-2ea332c6d50a",
   "metadata": {},
   "outputs": [
    {
     "name": "stdout",
     "output_type": "stream",
     "text": [
      "name: John\n",
      "age: 30\n",
      "city: New York\n"
     ]
    }
   ],
   "source": [
    "def shri(**kwargs):\n",
    "    for key, value in kwargs.items():\n",
    "        print(f\"{key}: {value}\")\n",
    "\n",
    "shri(name=\"John\", age=30, city=\"New York\")"
   ]
  },
  {
   "cell_type": "code",
   "execution_count": null,
   "id": "d7572a1d-3ff8-4141-b5ea-47dab3b1c380",
   "metadata": {},
   "outputs": [],
   "source": [
    "# Q3.  What is an iterator in python? Name the method used to initialise the iterator object and the method  used for iteration. Use these methods to print the first five elements of the given list [2, 4, 6, 8, 10, 12, 14, 16,  18, 20]. \n"
   ]
  },
  {
   "cell_type": "code",
   "execution_count": null,
   "id": "ff92c4c3-10f9-47ba-8aa3-85b792d1a3fb",
   "metadata": {},
   "outputs": [],
   "source": [
    "In Python, an iterator is an object that allows us to traverse through a collection of elements one by one. An iterator can be used to iterate over any iterable object such as a list, tuple, or dictionary.\n",
    "The method used to initialize an iterator object is iter(), and the method used for iteration is next().\n",
    "\n"
   ]
  },
  {
   "cell_type": "code",
   "execution_count": 10,
   "id": "bab184ea-2b66-4ade-94c7-0058d69631af",
   "metadata": {},
   "outputs": [
    {
     "name": "stdout",
     "output_type": "stream",
     "text": [
      "2\n",
      "4\n",
      "6\n",
      "8\n",
      "10\n"
     ]
    }
   ],
   "source": [
    "shri = [2, 4, 6, 8, 10, 12, 14, 16, 18, 20]\n",
    "\n",
    "# Initialize the iterator object\n",
    "my_iterator = iter(shri)\n",
    "\n",
    "# Iterate over the first five elements using next()\n",
    "for i in range(5):\n",
    "    print(next(my_iterator))"
   ]
  },
  {
   "cell_type": "code",
   "execution_count": null,
   "id": "8fc164ca-77db-4ef1-83d3-16671c4876f2",
   "metadata": {},
   "outputs": [],
   "source": [
    "#4- What is a generator function in python? Why yield keyword is used? Give an example of a generator  function"
   ]
  },
  {
   "cell_type": "code",
   "execution_count": null,
   "id": "06f4d350-b2fe-482a-8efe-5666328d96ee",
   "metadata": {},
   "outputs": [],
   "source": [
    "In Python, a generator function is a special kind of function that can be used to generate a sequence of values, one at a time, using the yield keyword. A generator function does not return a value like a normal function. Instead, it returns an iterator object that can be used to generate values on the fly, as needed.\n",
    "\n",
    "The yield keyword is used to produce a value from the generator function.\n",
    "\n"
   ]
  },
  {
   "cell_type": "code",
   "execution_count": 11,
   "id": "474da43c-ebc4-4c23-bcdb-d19251fa9526",
   "metadata": {},
   "outputs": [
    {
     "name": "stdout",
     "output_type": "stream",
     "text": [
      "0\n",
      "2\n",
      "4\n",
      "6\n",
      "8\n"
     ]
    }
   ],
   "source": [
    "def even_numbers(n):\n",
    "    for i in range(0, n, 2):\n",
    "        yield i\n",
    "my_generator = even_numbers(10)\n",
    "for num in my_generator:\n",
    "    print(num)"
   ]
  },
  {
   "cell_type": "code",
   "execution_count": null,
   "id": "12b9fcb9-dde5-4397-b63f-e5dfda349dde",
   "metadata": {},
   "outputs": [],
   "source": [
    "#Q5. Create a generator function for prime numbers less than 1000. Use the next() method to print the  first 20 prime numbers. \n"
   ]
  },
  {
   "cell_type": "code",
   "execution_count": 12,
   "id": "4140e375-bee9-468f-8b68-e5f0650a9d6f",
   "metadata": {},
   "outputs": [],
   "source": [
    "def prime_numbers():\n",
    "    num = 2\n",
    "    primes = []\n",
    "    while num < 1000:\n",
    "        is_prime = True\n",
    "        for prime in primes:\n",
    "            if num % prime == 0:\n",
    "                is_prime = False\n",
    "                break\n",
    "        if is_prime:\n",
    "            primes.append(num)\n",
    "            yield num\n",
    "        num += 1"
   ]
  },
  {
   "cell_type": "code",
   "execution_count": 17,
   "id": "30e08279-4866-4c6f-b275-17a2ed35ee61",
   "metadata": {},
   "outputs": [
    {
     "data": {
      "text/plain": [
       "<generator object prime_numbers at 0x7fbd6cd4dd90>"
      ]
     },
     "execution_count": 17,
     "metadata": {},
     "output_type": "execute_result"
    }
   ],
   "source": [
    "prime_numbers"
   ]
  },
  {
   "cell_type": "code",
   "execution_count": 18,
   "id": "47f9c753-fb11-48bd-ae92-069f92001ddc",
   "metadata": {},
   "outputs": [
    {
     "name": "stdout",
     "output_type": "stream",
     "text": [
      "2\n",
      "3\n",
      "5\n",
      "7\n",
      "11\n",
      "13\n",
      "17\n",
      "19\n",
      "23\n",
      "29\n",
      "31\n",
      "37\n",
      "41\n",
      "43\n",
      "47\n",
      "53\n",
      "59\n",
      "61\n",
      "67\n",
      "71\n"
     ]
    }
   ],
   "source": [
    "prime_gen = prime_numbers()\n",
    "\n",
    "# Print the first 20 prime numbers\n",
    "for i in range(20):\n",
    "    print(next(prime_gen))"
   ]
  },
  {
   "cell_type": "code",
   "execution_count": null,
   "id": "2e16fe66-e8f4-40cd-a9cb-e5c2f346b708",
   "metadata": {},
   "outputs": [],
   "source": []
  }
 ],
 "metadata": {
  "kernelspec": {
   "display_name": "Python 3 (ipykernel)",
   "language": "python",
   "name": "python3"
  },
  "language_info": {
   "codemirror_mode": {
    "name": "ipython",
    "version": 3
   },
   "file_extension": ".py",
   "mimetype": "text/x-python",
   "name": "python",
   "nbconvert_exporter": "python",
   "pygments_lexer": "ipython3",
   "version": "3.10.8"
  }
 },
 "nbformat": 4,
 "nbformat_minor": 5
}
